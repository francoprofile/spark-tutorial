{
 "cells": [
  {
   "cell_type": "markdown",
   "id": "291db6c4-7396-4600-b729-869c8d1fb6af",
   "metadata": {},
   "source": [
    "# Aula 1 "
   ]
  },
  {
   "cell_type": "code",
   "execution_count": 2,
   "id": "25171444-ef0e-42d7-9b37-9f4bdedf5eb9",
   "metadata": {},
   "outputs": [],
   "source": [
    "# Pacotes\n",
    "from pyspark.sql import SparkSession\n",
    "from pyspark.sql.functions import *\n",
    "from pyspark.sql.types import *\n",
    "from pyspark.sql import Window"
   ]
  },
  {
   "cell_type": "code",
   "execution_count": 3,
   "id": "468b2e1b-128b-46c1-a2c4-ce7056e2bfc6",
   "metadata": {},
   "outputs": [],
   "source": [
    "# Inicia sessao spark\n",
    "spark = (\n",
    "    SparkSession.builder\n",
    "    .master('local')\n",
    "    .appName('PySpark_01')\n",
    "    .getOrCreate()\n",
    ")"
   ]
  },
  {
   "cell_type": "code",
   "execution_count": 4,
   "id": "ff38ced5-954b-454e-9184-5fed797cd515",
   "metadata": {},
   "outputs": [],
   "source": [
    "df = spark.read.csv('wc2018-players.csv', header = True, inferSchema = True)"
   ]
  },
  {
   "cell_type": "code",
   "execution_count": 5,
   "id": "e55897d7-9f44-42ec-ac66-52458b6b1b96",
   "metadata": {},
   "outputs": [
    {
     "name": "stdout",
     "output_type": "stream",
     "text": [
      "+---------+---+----+------------------+----------+----------+--------------------+------+------+\n",
      "|     Team|  #|Pos.| FIFA Popular Name|Birth Date|Shirt Name|                Club|Height|Weight|\n",
      "+---------+---+----+------------------+----------+----------+--------------------+------+------+\n",
      "|Argentina|  3|  DF|TAGLIAFICO Nicolas|31.08.1992|TAGLIAFICO|      AFC Ajax (NED)|   169|    65|\n",
      "|Argentina| 22|  MF|    PAVON Cristian|21.01.1996|     PAVÓN|CA Boca Juniors (...|   169|    65|\n",
      "|Argentina| 15|  MF|    LANZINI Manuel|15.02.1993|   LANZINI|West Ham United F...|   167|    66|\n",
      "+---------+---+----+------------------+----------+----------+--------------------+------+------+\n",
      "only showing top 3 rows\n",
      "\n"
     ]
    }
   ],
   "source": [
    "df.show(3)"
   ]
  },
  {
   "cell_type": "code",
   "execution_count": 6,
   "id": "b9bcbcbc-0ef5-4ca7-bb66-28191a3ee620",
   "metadata": {},
   "outputs": [
    {
     "name": "stdout",
     "output_type": "stream",
     "text": [
      "root\n",
      " |-- Team: string (nullable = true)\n",
      " |-- #: integer (nullable = true)\n",
      " |-- Pos.: string (nullable = true)\n",
      " |-- FIFA Popular Name: string (nullable = true)\n",
      " |-- Birth Date: string (nullable = true)\n",
      " |-- Shirt Name: string (nullable = true)\n",
      " |-- Club: string (nullable = true)\n",
      " |-- Height: integer (nullable = true)\n",
      " |-- Weight: integer (nullable = true)\n",
      "\n"
     ]
    }
   ],
   "source": [
    "# Verifica tipo das colunas\n",
    "df.printSchema()"
   ]
  },
  {
   "cell_type": "code",
   "execution_count": 7,
   "id": "ad7c3bd3-ce03-4690-b09b-2ca44c68fb23",
   "metadata": {},
   "outputs": [],
   "source": [
    "# Renomeia coluna\n",
    "df = df.withColumnRenamed('Pos.', 'posicao')\\\n",
    ".withColumnRenamed('Team', 'selecao')\\\n",
    ".withColumnRenamed('#', 'numero')\\\n",
    ".withColumnRenamed('FIFA Popular Name', 'nm_fifa')\\\n",
    ".withColumnRenamed('Birth Date', 'dt_nasc')\\\n",
    ".withColumnRenamed('Shirt Name', 'nm_camisa')\\\n",
    ".withColumnRenamed('Club', 'time')\\\n",
    ".withColumnRenamed('Height', 'altura')\\\n",
    ".withColumnRenamed('Weight', 'peso')"
   ]
  },
  {
   "cell_type": "code",
   "execution_count": 8,
   "id": "48b17449-7e4a-4b70-94fe-be85c55080f6",
   "metadata": {},
   "outputs": [
    {
     "name": "stdout",
     "output_type": "stream",
     "text": [
      "+---------+------+-------+------------------+----------+----------+--------------------+------+----+\n",
      "|  selecao|numero|posicao|           nm_fifa|   dt_nasc| nm_camisa|                time|altura|peso|\n",
      "+---------+------+-------+------------------+----------+----------+--------------------+------+----+\n",
      "|Argentina|     3|     DF|TAGLIAFICO Nicolas|31.08.1992|TAGLIAFICO|      AFC Ajax (NED)|   169|  65|\n",
      "|Argentina|    22|     MF|    PAVON Cristian|21.01.1996|     PAVÓN|CA Boca Juniors (...|   169|  65|\n",
      "|Argentina|    15|     MF|    LANZINI Manuel|15.02.1993|   LANZINI|West Ham United F...|   167|  66|\n",
      "+---------+------+-------+------------------+----------+----------+--------------------+------+----+\n",
      "only showing top 3 rows\n",
      "\n"
     ]
    }
   ],
   "source": [
    "df.show(3)"
   ]
  },
  {
   "cell_type": "code",
   "execution_count": 9,
   "id": "b9d232fb-3111-4458-923b-056c37bf4cc4",
   "metadata": {},
   "outputs": [
    {
     "data": {
      "text/plain": [
       "['selecao',\n",
       " 'numero',\n",
       " 'posicao',\n",
       " 'nm_fifa',\n",
       " 'dt_nasc',\n",
       " 'nm_camisa',\n",
       " 'time',\n",
       " 'altura',\n",
       " 'peso']"
      ]
     },
     "execution_count": 9,
     "metadata": {},
     "output_type": "execute_result"
    }
   ],
   "source": [
    "# Nomes das colunas\n",
    "df.columns"
   ]
  },
  {
   "cell_type": "code",
   "execution_count": 10,
   "id": "48a8f175-7b2f-4805-92f9-f8bb9dbb99a7",
   "metadata": {},
   "outputs": [
    {
     "name": "stdout",
     "output_type": "stream",
     "text": [
      "selecao 0\n",
      "numero 0\n",
      "posicao 0\n",
      "nm_fifa 0\n",
      "dt_nasc 0\n",
      "nm_camisa 0\n",
      "time 0\n",
      "altura 0\n",
      "peso 0\n"
     ]
    }
   ],
   "source": [
    "# Conta valores nulos em cada coluna\n",
    "for i in df.columns:\n",
    "    print(i, df.filter(df[i].isNull()).count())\n"
   ]
  },
  {
   "cell_type": "code",
   "execution_count": 11,
   "id": "6b1682a7-a441-4f58-912a-d09f1760c809",
   "metadata": {},
   "outputs": [
    {
     "name": "stdout",
     "output_type": "stream",
     "text": [
      "+---------+----------+\n",
      "|  selecao| nm_camisa|\n",
      "+---------+----------+\n",
      "|Argentina|TAGLIAFICO|\n",
      "|Argentina|     PAVÓN|\n",
      "|Argentina|   LANZINI|\n",
      "+---------+----------+\n",
      "only showing top 3 rows\n",
      "\n"
     ]
    }
   ],
   "source": [
    "# Selecionar colunas\n",
    "df.select('selecao', 'nm_camisa').show(3)"
   ]
  },
  {
   "cell_type": "code",
   "execution_count": 12,
   "id": "a04c3a19-8ece-4d41-8050-638de880616e",
   "metadata": {},
   "outputs": [
    {
     "name": "stdout",
     "output_type": "stream",
     "text": [
      "+---------+----------+\n",
      "|  selecao| nm_camisa|\n",
      "+---------+----------+\n",
      "|Argentina|TAGLIAFICO|\n",
      "|Argentina|     PAVÓN|\n",
      "|Argentina|   LANZINI|\n",
      "+---------+----------+\n",
      "only showing top 3 rows\n",
      "\n"
     ]
    }
   ],
   "source": [
    "# Selecionar colunas (2)\n",
    "df.select(col('selecao'), col('nm_camisa')).show(3)\n"
   ]
  },
  {
   "cell_type": "code",
   "execution_count": 13,
   "id": "c0f36774-78cd-48bd-b473-e854f1c74c8d",
   "metadata": {},
   "outputs": [
    {
     "name": "stdout",
     "output_type": "stream",
     "text": [
      "+-------+------+-------+-----------------+----------+-----------+--------------------+------+----+\n",
      "|selecao|numero|posicao|          nm_fifa|   dt_nasc|  nm_camisa|                time|altura|peso|\n",
      "+-------+------+-------+-----------------+----------+-----------+--------------------+------+----+\n",
      "| Brazil|    18|     MF|             FRED|05.03.1993|       FRED|FC Shakhtar Donet...|   169|  64|\n",
      "| Brazil|    21|     FW|           TAISON|13.01.1988|     TAISON|FC Shakhtar Donet...|   172|  64|\n",
      "| Brazil|    17|     MF|      FERNANDINHO|04.05.1985|FERNANDINHO|Manchester City F...|   179|  67|\n",
      "| Brazil|    22|     DF|           FAGNER|11.06.1989|     FAGNER|SC Corinthians (BRA)|   168|  67|\n",
      "| Brazil|    10|     FW|           NEYMAR|05.02.1992|  NEYMAR JR|Paris Saint-Germa...|   175|  68|\n",
      "| Brazil|    11|     MF|PHILIPPE COUTINHO|12.06.1992|P. COUTINHO|  FC Barcelona (ESP)|   172|  68|\n",
      "| Brazil|     7|     FW|    DOUGLAS COSTA|14.09.1990|   D. COSTA|   Juventus FC (ITA)|   182|  70|\n",
      "| Brazil|     6|     DF|      FILIPE LUIS|09.08.1985|FILIPE LUIS|Atletico Madrid (...|   182|  73|\n",
      "| Brazil|     9|     FW|    GABRIEL JESUS|03.04.1997|   G. JESUS|Manchester City F...|   175|  73|\n",
      "| Brazil|    13|     DF|       MARQUINHOS|14.05.1994| MARQUINHOS|Paris Saint-Germa...|   183|  75|\n",
      "+-------+------+-------+-----------------+----------+-----------+--------------------+------+----+\n",
      "only showing top 10 rows\n",
      "\n"
     ]
    }
   ],
   "source": [
    "# Filtro\n",
    "df.filter(col('selecao') == 'Brazil').show(10)"
   ]
  },
  {
   "cell_type": "code",
   "execution_count": 14,
   "id": "cae234d7-cc24-49e6-a3c6-e92a14b6b64c",
   "metadata": {},
   "outputs": [
    {
     "name": "stdout",
     "output_type": "stream",
     "text": [
      "+---------+------+-------+--------------+----------+---------+--------------------+------+----+\n",
      "|  selecao|numero|posicao|       nm_fifa|   dt_nasc|nm_camisa|                time|altura|peso|\n",
      "+---------+------+-------+--------------+----------+---------+--------------------+------+----+\n",
      "|Argentina|     6|     DF|FAZIO Federico|17.03.1987|    FAZIO|       AS Roma (ITA)|   199|  85|\n",
      "|Argentina|    12|     GK| ARMANI Franco|16.10.1986|   ARMANI|CA River Plate (ARG)|   189|  85|\n",
      "|Argentina|     1|     GK| GUZMAN Nahuel|10.02.1986|   GUZMÁN|   Tigres UANL (MEX)|   192|  90|\n",
      "+---------+------+-------+--------------+----------+---------+--------------------+------+----+\n",
      "\n"
     ]
    }
   ],
   "source": [
    "# Filtro com AND (&)\n",
    "df.filter((col('selecao') == 'Argentina') & (col('altura') > 180) & (col('peso') >= 85)).show()"
   ]
  },
  {
   "cell_type": "code",
   "execution_count": 15,
   "id": "2e323066-2341-4f0f-9874-602e7db7ed28",
   "metadata": {},
   "outputs": [
    {
     "name": "stdout",
     "output_type": "stream",
     "text": [
      "+-------+------+-------+-------+----------+---------+--------------------+------+----+\n",
      "|selecao|numero|posicao|nm_fifa|   dt_nasc|nm_camisa|                time|altura|peso|\n",
      "+-------+------+-------+-------+----------+---------+--------------------+------+----+\n",
      "| Brazil|    18|     MF|   FRED|05.03.1993|     FRED|FC Shakhtar Donet...|   169|  64|\n",
      "| Brazil|    22|     DF| FAGNER|11.06.1989|   FAGNER|SC Corinthians (BRA)|   168|  67|\n",
      "+-------+------+-------+-------+----------+---------+--------------------+------+----+\n",
      "\n"
     ]
    }
   ],
   "source": [
    "# Filtro equivalente ao AND (&) \n",
    "df.filter(col('selecao') == 'Brazil').filter(col('altura') < 170).show()"
   ]
  },
  {
   "cell_type": "code",
   "execution_count": 16,
   "id": "0cd34ab2-c55c-4ae0-b368-f3afd97cc163",
   "metadata": {},
   "outputs": [
    {
     "name": "stdout",
     "output_type": "stream",
     "text": [
      "+---------+------+-------+------------+----------+---------+--------------------+------+----+\n",
      "|  selecao|numero|posicao|     nm_fifa|   dt_nasc|nm_camisa|                time|altura|peso|\n",
      "+---------+------+-------+------------+----------+---------+--------------------+------+----+\n",
      "|Argentina|    10|     FW|MESSI Lionel|24.06.1987|    MESSI|  FC Barcelona (ESP)|   170|  72|\n",
      "|   Brazil|    18|     MF|        FRED|05.03.1993|     FRED|FC Shakhtar Donet...|   169|  64|\n",
      "+---------+------+-------+------------+----------+---------+--------------------+------+----+\n",
      "\n"
     ]
    }
   ],
   "source": [
    "# Filtro OR ( | )\n",
    "df.filter((col('nm_camisa') == 'FRED') | (col('nm_camisa') == 'MESSI')).show()"
   ]
  },
  {
   "cell_type": "code",
   "execution_count": 17,
   "id": "d26f5de9-5723-4555-8f01-96fd8a6ffc23",
   "metadata": {},
   "outputs": [],
   "source": [
    "# Criar novas colunas\n",
    "df = df.withColumn('data_ano', lit(2018))"
   ]
  },
  {
   "cell_type": "code",
   "execution_count": 18,
   "id": "0d7f4be6-26a2-4d47-976e-a8c6129dce9d",
   "metadata": {},
   "outputs": [
    {
     "name": "stdout",
     "output_type": "stream",
     "text": [
      "+---------+------+-------+------------------+----------+----------+--------------------+------+----+--------+\n",
      "|  selecao|numero|posicao|           nm_fifa|   dt_nasc| nm_camisa|                time|altura|peso|data_ano|\n",
      "+---------+------+-------+------------------+----------+----------+--------------------+------+----+--------+\n",
      "|Argentina|     3|     DF|TAGLIAFICO Nicolas|31.08.1992|TAGLIAFICO|      AFC Ajax (NED)|   169|  65|    2018|\n",
      "|Argentina|    22|     MF|    PAVON Cristian|21.01.1996|     PAVÓN|CA Boca Juniors (...|   169|  65|    2018|\n",
      "|Argentina|    15|     MF|    LANZINI Manuel|15.02.1993|   LANZINI|West Ham United F...|   167|  66|    2018|\n",
      "+---------+------+-------+------------------+----------+----------+--------------------+------+----+--------+\n",
      "only showing top 3 rows\n",
      "\n"
     ]
    }
   ],
   "source": [
    "df.show(3)"
   ]
  },
  {
   "cell_type": "code",
   "execution_count": 19,
   "id": "ebef7a9e-6f8e-4d4f-a2db-346505381457",
   "metadata": {},
   "outputs": [
    {
     "name": "stdout",
     "output_type": "stream",
     "text": [
      "+---------+------+-------+------------------+----------+----------+--------------------+------+----+--------+-------------+\n",
      "|  selecao|numero|posicao|           nm_fifa|   dt_nasc| nm_camisa|                time|altura|peso|data_ano|selecao_abrev|\n",
      "+---------+------+-------+------------------+----------+----------+--------------------+------+----+--------+-------------+\n",
      "|Argentina|     3|     DF|TAGLIAFICO Nicolas|31.08.1992|TAGLIAFICO|      AFC Ajax (NED)|   169|  65|    2018|          Arg|\n",
      "|Argentina|    22|     MF|    PAVON Cristian|21.01.1996|     PAVÓN|CA Boca Juniors (...|   169|  65|    2018|          Arg|\n",
      "|Argentina|    15|     MF|    LANZINI Manuel|15.02.1993|   LANZINI|West Ham United F...|   167|  66|    2018|          Arg|\n",
      "+---------+------+-------+------------------+----------+----------+--------------------+------+----+--------+-------------+\n",
      "only showing top 3 rows\n",
      "\n"
     ]
    }
   ],
   "source": [
    "# Cria coluna com a funcao substring\n",
    "df.withColumn('selecao_abrev', substring('selecao', 1, 3)).show(3) # pega do primeiro ate o terceiro elemento da string"
   ]
  },
  {
   "cell_type": "code",
   "execution_count": 20,
   "id": "048e7cc1-889c-4d22-b131-e944dbece0cd",
   "metadata": {},
   "outputs": [
    {
     "name": "stdout",
     "output_type": "stream",
     "text": [
      "root\n",
      " |-- selecao: string (nullable = true)\n",
      " |-- numero: integer (nullable = true)\n",
      " |-- posicao: string (nullable = true)\n",
      " |-- nm_fifa: string (nullable = true)\n",
      " |-- dt_nasc: string (nullable = true)\n",
      " |-- nm_camisa: string (nullable = true)\n",
      " |-- time: string (nullable = true)\n",
      " |-- altura: integer (nullable = true)\n",
      " |-- peso: integer (nullable = true)\n",
      " |-- data_ano: integer (nullable = false)\n",
      "\n"
     ]
    }
   ],
   "source": [
    "df.printSchema()"
   ]
  },
  {
   "cell_type": "code",
   "execution_count": 21,
   "id": "1e0a6084-edb1-4456-bb5a-1841903e7827",
   "metadata": {},
   "outputs": [],
   "source": [
    "# coverte tipo da coluna\n",
    "df = df.withColumn('data_ano', col('data_ano').cast(IntegerType()))"
   ]
  },
  {
   "cell_type": "code",
   "execution_count": 22,
   "id": "fcdd071b-c1aa-4ce4-a71b-67d53b1ccde1",
   "metadata": {},
   "outputs": [
    {
     "name": "stdout",
     "output_type": "stream",
     "text": [
      "root\n",
      " |-- selecao: string (nullable = true)\n",
      " |-- numero: integer (nullable = true)\n",
      " |-- posicao: string (nullable = true)\n",
      " |-- nm_fifa: string (nullable = true)\n",
      " |-- dt_nasc: string (nullable = true)\n",
      " |-- nm_camisa: string (nullable = true)\n",
      " |-- time: string (nullable = true)\n",
      " |-- altura: integer (nullable = true)\n",
      " |-- peso: integer (nullable = true)\n",
      " |-- data_ano: integer (nullable = false)\n",
      "\n"
     ]
    }
   ],
   "source": [
    "df.printSchema()"
   ]
  },
  {
   "cell_type": "markdown",
   "id": "7d4245e9-7da3-4867-8328-47445b6695aa",
   "metadata": {},
   "source": [
    "# Aula 2"
   ]
  },
  {
   "cell_type": "code",
   "execution_count": 24,
   "id": "988ca787-2fbc-4619-b294-7c0c61283890",
   "metadata": {},
   "outputs": [],
   "source": [
    "df = df.withColumn('dt_nasc', to_date('dt_nasc', 'dd.mm.yyyy')) # formata coluna para o padrao yyyy-mm-dd\n",
    "df = df.withColumn('dt_nasc', col('dt_nasc').cast(DateType())) # converte para o tipo data"
   ]
  },
  {
   "cell_type": "code",
   "execution_count": 25,
   "id": "07b706d6-e0f6-40b7-af14-9ebcb5b8a02b",
   "metadata": {},
   "outputs": [
    {
     "name": "stdout",
     "output_type": "stream",
     "text": [
      "+---------+------+-------+------------------+----------+----------+--------------------+------+----+--------+\n",
      "|  selecao|numero|posicao|           nm_fifa|   dt_nasc| nm_camisa|                time|altura|peso|data_ano|\n",
      "+---------+------+-------+------------------+----------+----------+--------------------+------+----+--------+\n",
      "|Argentina|     3|     DF|TAGLIAFICO Nicolas|1992-01-31|TAGLIAFICO|      AFC Ajax (NED)|   169|  65|    2018|\n",
      "|Argentina|    22|     MF|    PAVON Cristian|1996-01-21|     PAVÓN|CA Boca Juniors (...|   169|  65|    2018|\n",
      "|Argentina|    15|     MF|    LANZINI Manuel|1993-01-15|   LANZINI|West Ham United F...|   167|  66|    2018|\n",
      "+---------+------+-------+------------------+----------+----------+--------------------+------+----+--------+\n",
      "only showing top 3 rows\n",
      "\n"
     ]
    }
   ],
   "source": [
    "df.show(3)"
   ]
  },
  {
   "cell_type": "code",
   "execution_count": 26,
   "id": "f5e27cc9-912f-4169-8069-00e057dde176",
   "metadata": {},
   "outputs": [
    {
     "name": "stdout",
     "output_type": "stream",
     "text": [
      "root\n",
      " |-- selecao: string (nullable = true)\n",
      " |-- numero: integer (nullable = true)\n",
      " |-- posicao: string (nullable = true)\n",
      " |-- nm_fifa: string (nullable = true)\n",
      " |-- dt_nasc: date (nullable = true)\n",
      " |-- nm_camisa: string (nullable = true)\n",
      " |-- time: string (nullable = true)\n",
      " |-- altura: integer (nullable = true)\n",
      " |-- peso: integer (nullable = true)\n",
      " |-- data_ano: integer (nullable = false)\n",
      "\n"
     ]
    }
   ],
   "source": [
    "df.printSchema()"
   ]
  },
  {
   "cell_type": "code",
   "execution_count": 27,
   "id": "6c3ade14-c7f1-4026-8b27-8cb52dec5342",
   "metadata": {},
   "outputs": [
    {
     "name": "stdout",
     "output_type": "stream",
     "text": [
      "+---------+------+-------+------------------+----------+----------+--------------------+------+----+--------+---+\n",
      "|  selecao|numero|posicao|           nm_fifa|   dt_nasc| nm_camisa|                time|altura|peso|data_ano| rn|\n",
      "+---------+------+-------+------------------+----------+----------+--------------------+------+----+--------+---+\n",
      "|Argentina|     1|     GK|     GUZMAN Nahuel|1986-01-10|    GUZMÁN|   Tigres UANL (MEX)|   192|  90|    2018|  1|\n",
      "|Argentina|     6|     DF|    FAZIO Federico|1987-01-17|     FAZIO|       AS Roma (ITA)|   199|  85|    2018|  2|\n",
      "|Argentina|    12|     GK|     ARMANI Franco|1986-01-16|    ARMANI|CA River Plate (ARG)|   189|  85|    2018|  3|\n",
      "|Argentina|    16|     DF|       ROJO Marcos|1990-01-20|      ROJO|Manchester United...|   189|  82|    2018|  4|\n",
      "|Argentina|     2|     DF|   MERCADO Gabriel|1987-01-18|   MERCADO|    Sevilla FC (ESP)|   181|  81|    2018|  5|\n",
      "|Argentina|    17|     DF|  OTAMENDI Nicolas|1988-01-12|  OTAMENDI|Manchester City F...|   181|  81|    2018|  6|\n",
      "|Argentina|    23|     GK|CABALLERO Wilfredo|1981-01-28| CABALLERO|    Chelsea FC (ENG)|   186|  80|    2018|  7|\n",
      "|Argentina|     8|     DF|      ACUNA Marcos|1991-01-28|     ACUÑA|   Sporting CP (POR)|   172|  77|    2018|  8|\n",
      "|Argentina|    13|     MF|  MEZA Maximiliano|1992-01-15|      MEZA|CA Independiente ...|   180|  76|    2018|  9|\n",
      "|Argentina|     9|     FW|   HIGUAIN Gonzalo|1987-01-10|   HIGUAÍN|   Juventus FC (ITA)|   184|  75|    2018| 10|\n",
      "|Argentina|    11|     MF|    DI MARIA Angel|1988-01-14|  DI MARÍA|Paris Saint-Germa...|   178|  75|    2018| 11|\n",
      "|Argentina|    20|     MF|  LO CELSO Giovani|1996-01-09|  LO CELSO|Paris Saint-Germa...|   177|  75|    2018| 12|\n",
      "|Argentina|    19|     FW|     AGUERO Sergio|1988-01-02|    AGÜERO|Manchester City F...|   172|  74|    2018| 13|\n",
      "|Argentina|     4|     DF|  ANSALDI Cristian|1986-01-20|   ANSALDI|     Torino FC (ITA)|   181|  73|    2018| 14|\n",
      "|Argentina|     5|     MF|      BIGLIA Lucas|1986-01-30|    BIGLIA|      AC Milan (ITA)|   175|  73|    2018| 15|\n",
      "|Argentina|     7|     MF|       BANEGA Ever|1988-01-29|    BANEGA|    Sevilla FC (ESP)|   175|  73|    2018| 16|\n",
      "|Argentina|    14|     DF| MASCHERANO Javier|1984-01-08|MASCHERANO|Hebei China Fortu...|   174|  73|    2018| 17|\n",
      "|Argentina|    21|     FW|      DYBALA Paulo|1993-01-15|    DYBALA|   Juventus FC (ITA)|   177|  73|    2018| 18|\n",
      "|Argentina|    10|     FW|      MESSI Lionel|1987-01-24|     MESSI|  FC Barcelona (ESP)|   170|  72|    2018| 19|\n",
      "|Argentina|    18|     DF|    SALVIO Eduardo|1990-01-13|    SALVIO|    SL Benfica (POR)|   167|  69|    2018| 20|\n",
      "|Argentina|    15|     MF|    LANZINI Manuel|1993-01-15|   LANZINI|West Ham United F...|   167|  66|    2018| 21|\n",
      "|Argentina|     3|     DF|TAGLIAFICO Nicolas|1992-01-31|TAGLIAFICO|      AFC Ajax (NED)|   169|  65|    2018| 22|\n",
      "|Argentina|    22|     MF|    PAVON Cristian|1996-01-21|     PAVÓN|CA Boca Juniors (...|   169|  65|    2018| 23|\n",
      "|Australia|    18|     GK|     VUKOVIC Danny|1985-01-27|   VUKOVIC|      KRC Genk (BEL)|   187|  94|    2018|  1|\n",
      "|Australia|    23|     MF|         ROGIC Tom|1992-01-16|     ROGIC|     Celtic FC (SCO)|   189|  88|    2018|  2|\n",
      "|Australia|    12|     GK|        JONES Brad|1982-01-19|     JONES|Feyenoord Rotterd...|   193|  87|    2018|  3|\n",
      "|Australia|     2|     DF|     DEGENEK Milos|1994-01-28|   DEGENEK|Yokohama F-Marino...|   187|  85|    2018|  4|\n",
      "|Australia|    11|     FW|    NABBOUT Andrew|1992-01-17|   NABBOUT|    Urawa Reds (JPN)|   178|  85|    2018|  5|\n",
      "|Australia|     7|     FW|     LECKIE Mathew|1991-01-04|    LECKIE|    Hertha BSC (GER)|   181|  84|    2018|  6|\n",
      "|Australia|     6|     DF|    JURMAN Matthew|1989-01-08|    JURMAN|Suwon Samsung Blu...|   190|  83|    2018|  7|\n",
      "+---------+------+-------+------------------+----------+----------+--------------------+------+----+--------+---+\n",
      "only showing top 30 rows\n",
      "\n"
     ]
    }
   ],
   "source": [
    "# ROW_NUMBER()\n",
    "w_func = Window.partitionBy('selecao').orderBy(desc('peso'))\n",
    "df.withColumn('rn', row_number().over(w_func)).show(30)"
   ]
  },
  {
   "cell_type": "code",
   "execution_count": 28,
   "id": "95f2e94f-36a6-4a09-b4f1-6d05b0be72bf",
   "metadata": {},
   "outputs": [
    {
     "name": "stdout",
     "output_type": "stream",
     "text": [
      "+---------+------+-------+------------------+----------+----------+--------------------+------+----+--------+---+\n",
      "|  selecao|numero|posicao|           nm_fifa|   dt_nasc| nm_camisa|                time|altura|peso|data_ano| rn|\n",
      "+---------+------+-------+------------------+----------+----------+--------------------+------+----+--------+---+\n",
      "|Argentina|     1|     GK|     GUZMAN Nahuel|1986-01-10|    GUZMÁN|   Tigres UANL (MEX)|   192|  90|    2018|  1|\n",
      "|Argentina|     6|     DF|    FAZIO Federico|1987-01-17|     FAZIO|       AS Roma (ITA)|   199|  85|    2018|  2|\n",
      "|Argentina|    12|     GK|     ARMANI Franco|1986-01-16|    ARMANI|CA River Plate (ARG)|   189|  85|    2018|  2|\n",
      "|Argentina|    16|     DF|       ROJO Marcos|1990-01-20|      ROJO|Manchester United...|   189|  82|    2018|  4|\n",
      "|Argentina|     2|     DF|   MERCADO Gabriel|1987-01-18|   MERCADO|    Sevilla FC (ESP)|   181|  81|    2018|  5|\n",
      "|Argentina|    17|     DF|  OTAMENDI Nicolas|1988-01-12|  OTAMENDI|Manchester City F...|   181|  81|    2018|  5|\n",
      "|Argentina|    23|     GK|CABALLERO Wilfredo|1981-01-28| CABALLERO|    Chelsea FC (ENG)|   186|  80|    2018|  7|\n",
      "|Argentina|     8|     DF|      ACUNA Marcos|1991-01-28|     ACUÑA|   Sporting CP (POR)|   172|  77|    2018|  8|\n",
      "|Argentina|    13|     MF|  MEZA Maximiliano|1992-01-15|      MEZA|CA Independiente ...|   180|  76|    2018|  9|\n",
      "|Argentina|     9|     FW|   HIGUAIN Gonzalo|1987-01-10|   HIGUAÍN|   Juventus FC (ITA)|   184|  75|    2018| 10|\n",
      "|Argentina|    11|     MF|    DI MARIA Angel|1988-01-14|  DI MARÍA|Paris Saint-Germa...|   178|  75|    2018| 10|\n",
      "|Argentina|    20|     MF|  LO CELSO Giovani|1996-01-09|  LO CELSO|Paris Saint-Germa...|   177|  75|    2018| 10|\n",
      "|Argentina|    19|     FW|     AGUERO Sergio|1988-01-02|    AGÜERO|Manchester City F...|   172|  74|    2018| 13|\n",
      "|Argentina|     4|     DF|  ANSALDI Cristian|1986-01-20|   ANSALDI|     Torino FC (ITA)|   181|  73|    2018| 14|\n",
      "|Argentina|     5|     MF|      BIGLIA Lucas|1986-01-30|    BIGLIA|      AC Milan (ITA)|   175|  73|    2018| 14|\n",
      "|Argentina|     7|     MF|       BANEGA Ever|1988-01-29|    BANEGA|    Sevilla FC (ESP)|   175|  73|    2018| 14|\n",
      "|Argentina|    14|     DF| MASCHERANO Javier|1984-01-08|MASCHERANO|Hebei China Fortu...|   174|  73|    2018| 14|\n",
      "|Argentina|    21|     FW|      DYBALA Paulo|1993-01-15|    DYBALA|   Juventus FC (ITA)|   177|  73|    2018| 14|\n",
      "|Argentina|    10|     FW|      MESSI Lionel|1987-01-24|     MESSI|  FC Barcelona (ESP)|   170|  72|    2018| 19|\n",
      "|Argentina|    18|     DF|    SALVIO Eduardo|1990-01-13|    SALVIO|    SL Benfica (POR)|   167|  69|    2018| 20|\n",
      "+---------+------+-------+------------------+----------+----------+--------------------+------+----+--------+---+\n",
      "only showing top 20 rows\n",
      "\n"
     ]
    }
   ],
   "source": [
    "# RANK()\n",
    "w_func = Window.partitionBy('selecao').orderBy(desc('peso'))\n",
    "df.withColumn('rn', rank().over(w_func)).show()"
   ]
  },
  {
   "cell_type": "code",
   "execution_count": 29,
   "id": "7664ce52-c650-4026-90e2-dfa9fe50e606",
   "metadata": {},
   "outputs": [
    {
     "name": "stdout",
     "output_type": "stream",
     "text": [
      "+---------+------+-------+------------------+----------+----------+--------------------+------+----+--------+---+\n",
      "|  selecao|numero|posicao|           nm_fifa|   dt_nasc| nm_camisa|                time|altura|peso|data_ano| rn|\n",
      "+---------+------+-------+------------------+----------+----------+--------------------+------+----+--------+---+\n",
      "|Argentina|     3|     DF|TAGLIAFICO Nicolas|1992-01-31|TAGLIAFICO|      AFC Ajax (NED)|   169|  65|    2018|  1|\n",
      "|Argentina|    22|     MF|    PAVON Cristian|1996-01-21|     PAVÓN|CA Boca Juniors (...|   169|  65|    2018|  1|\n",
      "|Argentina|    15|     MF|    LANZINI Manuel|1993-01-15|   LANZINI|West Ham United F...|   167|  66|    2018|  2|\n",
      "|Argentina|    18|     DF|    SALVIO Eduardo|1990-01-13|    SALVIO|    SL Benfica (POR)|   167|  69|    2018|  3|\n",
      "|Argentina|    10|     FW|      MESSI Lionel|1987-01-24|     MESSI|  FC Barcelona (ESP)|   170|  72|    2018|  4|\n",
      "|Argentina|     4|     DF|  ANSALDI Cristian|1986-01-20|   ANSALDI|     Torino FC (ITA)|   181|  73|    2018|  5|\n",
      "|Argentina|     5|     MF|      BIGLIA Lucas|1986-01-30|    BIGLIA|      AC Milan (ITA)|   175|  73|    2018|  5|\n",
      "|Argentina|     7|     MF|       BANEGA Ever|1988-01-29|    BANEGA|    Sevilla FC (ESP)|   175|  73|    2018|  5|\n",
      "|Argentina|    14|     DF| MASCHERANO Javier|1984-01-08|MASCHERANO|Hebei China Fortu...|   174|  73|    2018|  5|\n",
      "|Argentina|    21|     FW|      DYBALA Paulo|1993-01-15|    DYBALA|   Juventus FC (ITA)|   177|  73|    2018|  5|\n",
      "|Argentina|    19|     FW|     AGUERO Sergio|1988-01-02|    AGÜERO|Manchester City F...|   172|  74|    2018|  6|\n",
      "|Argentina|     9|     FW|   HIGUAIN Gonzalo|1987-01-10|   HIGUAÍN|   Juventus FC (ITA)|   184|  75|    2018|  7|\n",
      "|Argentina|    11|     MF|    DI MARIA Angel|1988-01-14|  DI MARÍA|Paris Saint-Germa...|   178|  75|    2018|  7|\n",
      "|Argentina|    20|     MF|  LO CELSO Giovani|1996-01-09|  LO CELSO|Paris Saint-Germa...|   177|  75|    2018|  7|\n",
      "|Argentina|    13|     MF|  MEZA Maximiliano|1992-01-15|      MEZA|CA Independiente ...|   180|  76|    2018|  8|\n",
      "|Argentina|     8|     DF|      ACUNA Marcos|1991-01-28|     ACUÑA|   Sporting CP (POR)|   172|  77|    2018|  9|\n",
      "|Argentina|    23|     GK|CABALLERO Wilfredo|1981-01-28| CABALLERO|    Chelsea FC (ENG)|   186|  80|    2018| 10|\n",
      "|Argentina|     2|     DF|   MERCADO Gabriel|1987-01-18|   MERCADO|    Sevilla FC (ESP)|   181|  81|    2018| 11|\n",
      "|Argentina|    17|     DF|  OTAMENDI Nicolas|1988-01-12|  OTAMENDI|Manchester City F...|   181|  81|    2018| 11|\n",
      "|Argentina|    16|     DF|       ROJO Marcos|1990-01-20|      ROJO|Manchester United...|   189|  82|    2018| 12|\n",
      "+---------+------+-------+------------------+----------+----------+--------------------+------+----+--------+---+\n",
      "only showing top 20 rows\n",
      "\n"
     ]
    }
   ],
   "source": [
    "# DANSE_RANK()\n",
    "w_func = Window.partitionBy('selecao').orderBy('peso')\n",
    "df.withColumn('rn', dense_rank().over(w_func)).show()"
   ]
  },
  {
   "cell_type": "code",
   "execution_count": 30,
   "id": "99ebfffa-8cd9-4e85-a117-0e94f423a899",
   "metadata": {},
   "outputs": [
    {
     "name": "stdout",
     "output_type": "stream",
     "text": [
      "+-------+------------------+\n",
      "|selecao|       avg(altura)|\n",
      "+-------+------------------+\n",
      "| Serbia|186.69565217391303|\n",
      "|Denmark| 186.6086956521739|\n",
      "|Germany| 185.7826086956522|\n",
      "+-------+------------------+\n",
      "only showing top 3 rows\n",
      "\n"
     ]
    }
   ],
   "source": [
    "# media de altura por grupo\n",
    "df.groupBy('selecao').agg(avg('altura')).orderBy(avg('altura'), ascending = False).show(3)"
   ]
  },
  {
   "cell_type": "code",
   "execution_count": 31,
   "id": "0293abb8-86fd-4ea5-8264-85a055cdb920",
   "metadata": {},
   "outputs": [
    {
     "name": "stdout",
     "output_type": "stream",
     "text": [
      "+-------+-----------+\n",
      "|selecao|max(altura)|\n",
      "+-------+-----------+\n",
      "|Croatia|        201|\n",
      "|Denmark|        200|\n",
      "|Belgium|        199|\n",
      "+-------+-----------+\n",
      "only showing top 3 rows\n",
      "\n"
     ]
    }
   ],
   "source": [
    "# maximo de altura por grupo\n",
    "df.groupBy('selecao').agg(max('altura')).orderBy(max('altura'), ascending = False).show(3) # max por grupo"
   ]
  },
  {
   "cell_type": "code",
   "execution_count": 32,
   "id": "b766284e-1f68-4ed0-9293-23f404c104f8",
   "metadata": {},
   "outputs": [
    {
     "name": "stdout",
     "output_type": "stream",
     "text": [
      "+-------+-----------------+\n",
      "|summary|           altura|\n",
      "+-------+-----------------+\n",
      "|  count|              736|\n",
      "|   mean|182.4076086956522|\n",
      "| stddev|6.930924233929302|\n",
      "|    min|              165|\n",
      "|    max|              201|\n",
      "+-------+-----------------+\n",
      "\n"
     ]
    }
   ],
   "source": [
    "# describe\n",
    "df.describe(['altura']).show() "
   ]
  },
  {
   "cell_type": "code",
   "execution_count": 33,
   "id": "95a592d4-7899-4fcb-867a-0292820e2119",
   "metadata": {},
   "outputs": [
    {
     "name": "stdout",
     "output_type": "stream",
     "text": [
      "+--------------+------------------+----------+----------+\n",
      "|       selecao|      media_altura|min_altura|max_altura|\n",
      "+--------------+------------------+----------+----------+\n",
      "|       Croatia| 185.2608695652174|       172|       201|\n",
      "|       Denmark| 186.6086956521739|       171|       200|\n",
      "|     Argentina|178.43478260869566|       167|       199|\n",
      "|       Belgium|185.34782608695653|       169|       199|\n",
      "|       Iceland|185.52173913043478|       170|       198|\n",
      "|        Sweden| 185.7391304347826|       177|       198|\n",
      "|        France|183.30434782608697|       168|       197|\n",
      "|Korea Republic| 181.8695652173913|       170|       197|\n",
      "|       Nigeria|184.52173913043478|       172|       197|\n",
      "|        Panama|182.17391304347825|       165|       197|\n",
      "|    Costa Rica|180.69565217391303|       172|       196|\n",
      "|       England| 182.7391304347826|       170|       196|\n",
      "|        Russia| 184.3913043478261|       173|       196|\n",
      "|       Senegal|183.65217391304347|       173|       196|\n",
      "|       Uruguay|181.04347826086956|       168|       196|\n",
      "|        Brazil| 180.7826086956522|       168|       195|\n",
      "|       Germany| 185.7826086956522|       176|       195|\n",
      "|        Poland|183.17391304347825|       172|       195|\n",
      "|        Serbia|186.69565217391303|       169|       195|\n",
      "|      Colombia| 180.7826086956522|       169|       194|\n",
      "+--------------+------------------+----------+----------+\n",
      "only showing top 20 rows\n",
      "\n"
     ]
    }
   ],
   "source": [
    "# sumarisa df\n",
    "w_func = Window.partitionBy('selecao').orderBy(desc('altura'))\n",
    "w_func_2 = Window.partitionBy('selecao')\n",
    "\n",
    "df.withColumn('rn', row_number().over(w_func))\\\n",
    ".withColumn('media_altura', avg('altura').over(w_func_2))\\\n",
    ".withColumn('min_altura', min('altura').over(w_func_2))\\\n",
    ".withColumn('max_altura', max('altura').over(w_func_2))\\\n",
    ".select('selecao','media_altura', 'min_altura', 'max_altura')\\\n",
    ".filter(col('rn') == 1)\\\n",
    ".orderBy('altura', ascending = False).show()"
   ]
  },
  {
   "cell_type": "markdown",
   "id": "452f8add-ef2e-4b5b-bb61-a9094bc986eb",
   "metadata": {},
   "source": [
    "# Aula 3"
   ]
  },
  {
   "cell_type": "code",
   "execution_count": 35,
   "id": "9bc19e96-ba10-41b1-afb9-3ea9f774ef3a",
   "metadata": {},
   "outputs": [
    {
     "name": "stdout",
     "output_type": "stream",
     "text": [
      "+---------+------+-------+------------------+----------+----------+--------------------+------+----+--------+\n",
      "|  selecao|numero|posicao|           nm_fifa|   dt_nasc| nm_camisa|                time|altura|peso|data_ano|\n",
      "+---------+------+-------+------------------+----------+----------+--------------------+------+----+--------+\n",
      "|Argentina|     3|     DF|TAGLIAFICO Nicolas|1992-01-31|TAGLIAFICO|      AFC Ajax (NED)|   169|  65|    2018|\n",
      "|Argentina|    22|     MF|    PAVON Cristian|1996-01-21|     PAVÓN|CA Boca Juniors (...|   169|  65|    2018|\n",
      "|Argentina|    15|     MF|    LANZINI Manuel|1993-01-15|   LANZINI|West Ham United F...|   167|  66|    2018|\n",
      "+---------+------+-------+------------------+----------+----------+--------------------+------+----+--------+\n",
      "only showing top 3 rows\n",
      "\n"
     ]
    }
   ],
   "source": [
    "df.show(3)"
   ]
  },
  {
   "cell_type": "code",
   "execution_count": 36,
   "id": "47f8128a-8435-4f4a-8290-5d769e0ad877",
   "metadata": {},
   "outputs": [
    {
     "name": "stdout",
     "output_type": "stream",
     "text": [
      "+--------------+\n",
      "|       selecao|\n",
      "+--------------+\n",
      "|        Russia|\n",
      "|       Senegal|\n",
      "|        Sweden|\n",
      "|       IR Iran|\n",
      "|       Germany|\n",
      "|        France|\n",
      "|     Argentina|\n",
      "|       Belgium|\n",
      "|          Peru|\n",
      "|       Croatia|\n",
      "|       Nigeria|\n",
      "|Korea Republic|\n",
      "|         Spain|\n",
      "|       Denmark|\n",
      "|       Morocco|\n",
      "|        Panama|\n",
      "|       Iceland|\n",
      "|       Uruguay|\n",
      "|        Mexico|\n",
      "|       Tunisia|\n",
      "+--------------+\n",
      "only showing top 20 rows\n",
      "\n"
     ]
    }
   ],
   "source": [
    "# DISTINCT()\n",
    "df.select('selecao').distinct().show()"
   ]
  },
  {
   "cell_type": "code",
   "execution_count": 37,
   "id": "fba0e3ca-759f-45d2-b8d1-78b2eb2c6cd5",
   "metadata": {},
   "outputs": [
    {
     "name": "stdout",
     "output_type": "stream",
     "text": [
      "[Row(selecao='Russia'), Row(selecao='Senegal'), Row(selecao='Sweden'), Row(selecao='IR Iran'), Row(selecao='Germany'), Row(selecao='France'), Row(selecao='Argentina'), Row(selecao='Belgium'), Row(selecao='Peru'), Row(selecao='Croatia'), Row(selecao='Nigeria'), Row(selecao='Korea Republic'), Row(selecao='Spain'), Row(selecao='Denmark'), Row(selecao='Morocco'), Row(selecao='Panama'), Row(selecao='Iceland'), Row(selecao='Uruguay'), Row(selecao='Mexico'), Row(selecao='Tunisia'), Row(selecao='Saudi Arabia'), Row(selecao='Switzerland'), Row(selecao='Brazil'), Row(selecao='Japan'), Row(selecao='England'), Row(selecao='Poland'), Row(selecao='Portugal'), Row(selecao='Australia'), Row(selecao='Costa Rica'), Row(selecao='Egypt'), Row(selecao='Serbia'), Row(selecao='Colombia')]\n"
     ]
    }
   ],
   "source": [
    "# COLLECT() --> transforma o resultado do comando em uma lista\n",
    "lista = df.select('selecao').distinct().collect()\n",
    "print(lista)"
   ]
  },
  {
   "cell_type": "code",
   "execution_count": 38,
   "id": "3a7f3953-cbf0-4c01-ba0f-b67755e473c7",
   "metadata": {},
   "outputs": [
    {
     "name": "stdout",
     "output_type": "stream",
     "text": [
      "['Russia', 'Senegal', 'Sweden', 'IR Iran', 'Germany', 'France', 'Argentina', 'Belgium', 'Peru', 'Croatia', 'Nigeria', 'Korea Republic', 'Spain', 'Denmark', 'Morocco', 'Panama', 'Iceland', 'Uruguay', 'Mexico', 'Tunisia', 'Saudi Arabia', 'Switzerland', 'Brazil', 'Japan', 'England', 'Poland', 'Portugal', 'Australia', 'Costa Rica', 'Egypt', 'Serbia', 'Colombia']\n"
     ]
    }
   ],
   "source": [
    "# extraindo somente os nomes dos paises da lista\n",
    "\n",
    "lista_2 = []\n",
    "\n",
    "for i in lista:\n",
    "    lista_2.append(i[0])\n",
    "\n",
    "print(lista_2)"
   ]
  },
  {
   "cell_type": "code",
   "execution_count": 39,
   "id": "6501a4b3-f175-430c-bb70-0ce7c65ba362",
   "metadata": {},
   "outputs": [
    {
     "name": "stdout",
     "output_type": "stream",
     "text": [
      "+---------+------+-------+------------------+----------+----------+--------------------+------+----+--------+----------+\n",
      "|  selecao|numero|posicao|           nm_fifa|   dt_nasc| nm_camisa|                time|altura|peso|data_ano|    regiao|\n",
      "+---------+------+-------+------------------+----------+----------+--------------------+------+----+--------+----------+\n",
      "|Argentina|     3|     DF|TAGLIAFICO Nicolas|1992-01-31|TAGLIAFICO|      AFC Ajax (NED)|   169|  65|    2018|Sulamerica|\n",
      "|Argentina|    22|     MF|    PAVON Cristian|1996-01-21|     PAVÓN|CA Boca Juniors (...|   169|  65|    2018|Sulamerica|\n",
      "|Argentina|    15|     MF|    LANZINI Manuel|1993-01-15|   LANZINI|West Ham United F...|   167|  66|    2018|Sulamerica|\n",
      "|Argentina|    18|     DF|    SALVIO Eduardo|1990-01-13|    SALVIO|    SL Benfica (POR)|   167|  69|    2018|Sulamerica|\n",
      "|Argentina|    10|     FW|      MESSI Lionel|1987-01-24|     MESSI|  FC Barcelona (ESP)|   170|  72|    2018|Sulamerica|\n",
      "|Argentina|     4|     DF|  ANSALDI Cristian|1986-01-20|   ANSALDI|     Torino FC (ITA)|   181|  73|    2018|Sulamerica|\n",
      "|Argentina|     5|     MF|      BIGLIA Lucas|1986-01-30|    BIGLIA|      AC Milan (ITA)|   175|  73|    2018|Sulamerica|\n",
      "|Argentina|     7|     MF|       BANEGA Ever|1988-01-29|    BANEGA|    Sevilla FC (ESP)|   175|  73|    2018|Sulamerica|\n",
      "|Argentina|    14|     DF| MASCHERANO Javier|1984-01-08|MASCHERANO|Hebei China Fortu...|   174|  73|    2018|Sulamerica|\n",
      "|Argentina|    21|     FW|      DYBALA Paulo|1993-01-15|    DYBALA|   Juventus FC (ITA)|   177|  73|    2018|Sulamerica|\n",
      "|Argentina|    19|     FW|     AGUERO Sergio|1988-01-02|    AGÜERO|Manchester City F...|   172|  74|    2018|Sulamerica|\n",
      "|Argentina|     9|     FW|   HIGUAIN Gonzalo|1987-01-10|   HIGUAÍN|   Juventus FC (ITA)|   184|  75|    2018|Sulamerica|\n",
      "|Argentina|    11|     MF|    DI MARIA Angel|1988-01-14|  DI MARÍA|Paris Saint-Germa...|   178|  75|    2018|Sulamerica|\n",
      "|Argentina|    20|     MF|  LO CELSO Giovani|1996-01-09|  LO CELSO|Paris Saint-Germa...|   177|  75|    2018|Sulamerica|\n",
      "|Argentina|    13|     MF|  MEZA Maximiliano|1992-01-15|      MEZA|CA Independiente ...|   180|  76|    2018|Sulamerica|\n",
      "|Argentina|     8|     DF|      ACUNA Marcos|1991-01-28|     ACUÑA|   Sporting CP (POR)|   172|  77|    2018|Sulamerica|\n",
      "|Argentina|    23|     GK|CABALLERO Wilfredo|1981-01-28| CABALLERO|    Chelsea FC (ENG)|   186|  80|    2018|Sulamerica|\n",
      "|Argentina|     2|     DF|   MERCADO Gabriel|1987-01-18|   MERCADO|    Sevilla FC (ESP)|   181|  81|    2018|Sulamerica|\n",
      "|Argentina|    17|     DF|  OTAMENDI Nicolas|1988-01-12|  OTAMENDI|Manchester City F...|   181|  81|    2018|Sulamerica|\n",
      "|Argentina|    16|     DF|       ROJO Marcos|1990-01-20|      ROJO|Manchester United...|   189|  82|    2018|Sulamerica|\n",
      "|Argentina|     6|     DF|    FAZIO Federico|1987-01-17|     FAZIO|       AS Roma (ITA)|   199|  85|    2018|Sulamerica|\n",
      "|Argentina|    12|     GK|     ARMANI Franco|1986-01-16|    ARMANI|CA River Plate (ARG)|   189|  85|    2018|Sulamerica|\n",
      "|Argentina|     1|     GK|     GUZMAN Nahuel|1986-01-10|    GUZMÁN|   Tigres UANL (MEX)|   192|  90|    2018|Sulamerica|\n",
      "|Australia|    16|     DF|       BEHICH Aziz|1990-01-16|    BEHICH|     Bursaspor (TUR)|   170|  63|    2018|    Outros|\n",
      "|Australia|    10|     FW|      KRUSE Robbie|1988-01-05|     KRUSE|    VfL Bochum (GER)|   180|  66|    2018|    Outros|\n",
      "|Australia|    19|     DF|     RISDON Joshua|1992-01-27|    RISDON|WS Wanderers FC (...|   169|  70|    2018|    Outros|\n",
      "|Australia|     3|     DF|    MEREDITH James|1988-01-05|  MEREDITH|   Millwall FC (ENG)|   179|  71|    2018|    Outros|\n",
      "|Australia|    13|     MF|        MOOY Aaron|1990-01-15|      MOOY|Huddersfield Town...|   173|  72|    2018|    Outros|\n",
      "|Australia|    14|     FW|    MacLAREN Jamie|1993-01-29|  MACLAREN|  Hibernian FC (SCO)|   178|  72|    2018|    Outros|\n",
      "|Australia|    21|     FW|PETRATOS Dimitrios|1992-01-10|  PETRATOS|Newcastle United ...|   176|  72|    2018|    Outros|\n",
      "+---------+------+-------+------------------+----------+----------+--------------------+------+----+--------+----------+\n",
      "only showing top 30 rows\n",
      "\n"
     ]
    }
   ],
   "source": [
    "# WHEN e OTHERWISE\n",
    "df.withColumn('regiao', when(col('selecao') == 'Argentina', 'Sulamerica')\\\n",
    ".when(col('selecao') == 'Brazil', 'Sulameria').otherwise('Outros')).show(30)"
   ]
  },
  {
   "cell_type": "code",
   "execution_count": 40,
   "id": "7d5c8f3a-dc72-416c-8a17-ded3626e609e",
   "metadata": {},
   "outputs": [
    {
     "name": "stdout",
     "output_type": "stream",
     "text": [
      "+--------------+\n",
      "|       selecao|\n",
      "+--------------+\n",
      "|        Russia|\n",
      "|       Senegal|\n",
      "|        Sweden|\n",
      "|       IR Iran|\n",
      "|       Germany|\n",
      "|        France|\n",
      "|     Argentina|\n",
      "|       Belgium|\n",
      "|          Peru|\n",
      "|       Croatia|\n",
      "|       Nigeria|\n",
      "|Korea Republic|\n",
      "|         Spain|\n",
      "|       Denmark|\n",
      "|       Morocco|\n",
      "|        Panama|\n",
      "|       Iceland|\n",
      "|       Uruguay|\n",
      "|        Mexico|\n",
      "|       Tunisia|\n",
      "|  Saudi Arabia|\n",
      "|   Switzerland|\n",
      "|        Brazil|\n",
      "|         Japan|\n",
      "|       England|\n",
      "|        Poland|\n",
      "|      Portugal|\n",
      "|     Australia|\n",
      "|    Costa Rica|\n",
      "|         Egypt|\n",
      "|        Serbia|\n",
      "|      Colombia|\n",
      "+--------------+\n",
      "\n"
     ]
    }
   ],
   "source": [
    "df.select('selecao').distinct().show(32)"
   ]
  },
  {
   "cell_type": "code",
   "execution_count": 41,
   "id": "c0f9c152-31aa-41c9-997b-a8977ffae7e4",
   "metadata": {},
   "outputs": [],
   "source": [
    "# Cria lista continentes para cada pais\n",
    "europa = ['Russia', 'Sweden', 'Germany', 'France', 'Belgium', 'Croatia', 'Spain', 'Denmark', 'Iceland', 'Switzerland', 'England', 'Poland', 'Portugal', 'Serbia']\n",
    "africa = ['Senegal', 'Nigeria', 'Morocco', 'Tunisia', 'Egypt']\n",
    "asia = ['IR Iran', 'Korea Republic', 'Saudi Arabia', 'Japan']\n",
    "oceania = ['Australia']\n",
    "america = ['Argentina', 'Peru', 'Panama', 'Uruguay', 'Mexico', 'Brazil', 'Costa Rica', 'Colombia']"
   ]
  },
  {
   "cell_type": "code",
   "execution_count": 42,
   "id": "adaee86b-6fb1-484e-9563-5ffb6576817c",
   "metadata": {},
   "outputs": [],
   "source": [
    "# ISIN()\n",
    "# Cria coluna classificando cada pais por continente\n",
    "df_2 = df.withColumn('continente', when(col('selecao').isin(europa), 'europa')\\\n",
    ".when(col('selecao').isin(africa), 'africa')\\\n",
    ".when(col('selecao').isin(asia), 'asia')\\\n",
    ".when(col('selecao').isin(oceania), 'oceania')\\\n",
    ".when(col('selecao').isin(america), 'america'))"
   ]
  },
  {
   "cell_type": "code",
   "execution_count": 43,
   "id": "4b4c3f99-7be8-4368-bf5a-0d1eee7fb468",
   "metadata": {},
   "outputs": [
    {
     "name": "stdout",
     "output_type": "stream",
     "text": [
      "+--------------+----------+\n",
      "|       selecao|continente|\n",
      "+--------------+----------+\n",
      "|        Brazil|   america|\n",
      "|        France|    europa|\n",
      "|       Croatia|    europa|\n",
      "|       Iceland|    europa|\n",
      "|         Spain|    europa|\n",
      "|        Poland|    europa|\n",
      "|        Serbia|    europa|\n",
      "|       Tunisia|    africa|\n",
      "|      Portugal|    europa|\n",
      "|  Saudi Arabia|      asia|\n",
      "|       Belgium|    europa|\n",
      "|       England|    europa|\n",
      "|       Uruguay|   america|\n",
      "|      Colombia|   america|\n",
      "|   Switzerland|    europa|\n",
      "|         Egypt|    africa|\n",
      "|       IR Iran|      asia|\n",
      "|     Argentina|   america|\n",
      "|Korea Republic|      asia|\n",
      "|       Nigeria|    africa|\n",
      "|        Sweden|    europa|\n",
      "|        Russia|    europa|\n",
      "|     Australia|   oceania|\n",
      "|       Morocco|    africa|\n",
      "|        Mexico|   america|\n",
      "|    Costa Rica|   america|\n",
      "|          Peru|   america|\n",
      "|       Germany|    europa|\n",
      "|        Panama|   america|\n",
      "|       Denmark|    europa|\n",
      "|       Senegal|    africa|\n",
      "|         Japan|      asia|\n",
      "+--------------+----------+\n",
      "\n"
     ]
    }
   ],
   "source": [
    "df_2.select('selecao', 'continente').distinct().show(32)"
   ]
  },
  {
   "cell_type": "code",
   "execution_count": 44,
   "id": "068cc116-4ceb-4609-8a21-515b3cd113e0",
   "metadata": {},
   "outputs": [],
   "source": [
    "# separa em dois dataframes --> fazendo isso para testar o comando UNION()\n",
    "df_america =  df_2.filter(col('continente') == 'america')\n",
    "df_asia = df_2.filter(col('continente') == 'asia')"
   ]
  },
  {
   "cell_type": "code",
   "execution_count": 45,
   "id": "2dfaba52-7938-440b-88a7-660b80d1406c",
   "metadata": {},
   "outputs": [
    {
     "name": "stdout",
     "output_type": "stream",
     "text": [
      "+----------+\n",
      "|   selecao|\n",
      "+----------+\n",
      "| Argentina|\n",
      "|      Peru|\n",
      "|    Panama|\n",
      "|   Uruguay|\n",
      "|    Mexico|\n",
      "|    Brazil|\n",
      "|Costa Rica|\n",
      "|  Colombia|\n",
      "+----------+\n",
      "\n"
     ]
    }
   ],
   "source": [
    "df_america.select('selecao').distinct().show()"
   ]
  },
  {
   "cell_type": "code",
   "execution_count": 46,
   "id": "ef878da5-8f4d-43f2-bc94-58612c5c4808",
   "metadata": {},
   "outputs": [
    {
     "name": "stdout",
     "output_type": "stream",
     "text": [
      "+--------------+\n",
      "|       selecao|\n",
      "+--------------+\n",
      "|       IR Iran|\n",
      "|Korea Republic|\n",
      "|  Saudi Arabia|\n",
      "|         Japan|\n",
      "+--------------+\n",
      "\n"
     ]
    }
   ],
   "source": [
    "df_asia.select('selecao').distinct().show()"
   ]
  },
  {
   "cell_type": "code",
   "execution_count": 47,
   "id": "4556eb4e-c1ec-453e-bd8c-98a941a7ab0f",
   "metadata": {},
   "outputs": [],
   "source": [
    "# UNION()\n",
    "df_union = df_america.union(df_asia)"
   ]
  },
  {
   "cell_type": "code",
   "execution_count": 48,
   "id": "806bcc16-f75a-4cdf-9b0d-ca8afd6a8569",
   "metadata": {},
   "outputs": [
    {
     "name": "stdout",
     "output_type": "stream",
     "text": [
      "+--------------+\n",
      "|       selecao|\n",
      "+--------------+\n",
      "|     Argentina|\n",
      "|          Peru|\n",
      "|        Panama|\n",
      "|       Uruguay|\n",
      "|        Mexico|\n",
      "|        Brazil|\n",
      "|    Costa Rica|\n",
      "|      Colombia|\n",
      "|       IR Iran|\n",
      "|Korea Republic|\n",
      "|  Saudi Arabia|\n",
      "|         Japan|\n",
      "+--------------+\n",
      "\n"
     ]
    }
   ],
   "source": [
    "df_union.select('selecao').distinct().show()"
   ]
  },
  {
   "cell_type": "code",
   "execution_count": 49,
   "id": "c8e46e3f-175e-4b5e-8482-e5a58dc05d09",
   "metadata": {},
   "outputs": [],
   "source": [
    "# Cria dois dataframes para testas o comando JOIN()\n",
    "df_br = df.select('selecao', 'numero', 'posicao', 'nm_camisa', 'altura')\\\n",
    ".filter(col('selecao') == 'Brazil')\n",
    "\n",
    "df_arg = df.select('selecao', 'numero', 'posicao', 'nm_camisa', 'altura')\\\n",
    ".filter(col('selecao') == 'Argentina')"
   ]
  },
  {
   "cell_type": "code",
   "execution_count": 50,
   "id": "aa401257-e994-4040-b03f-a9a272da6bb1",
   "metadata": {},
   "outputs": [
    {
     "name": "stdout",
     "output_type": "stream",
     "text": [
      "23 23\n"
     ]
    }
   ],
   "source": [
    "print(df_br.count(), df_arg.count())"
   ]
  },
  {
   "cell_type": "code",
   "execution_count": 51,
   "id": "34b68a67-5061-4960-9348-e59920639a30",
   "metadata": {},
   "outputs": [
    {
     "name": "stdout",
     "output_type": "stream",
     "text": [
      "+-------+------+-------+-----------+------+---------+------+-------+----------+------+\n",
      "|selecao|numero|posicao|  nm_camisa|altura|  selecao|numero|posicao| nm_camisa|altura|\n",
      "+-------+------+-------+-----------+------+---------+------+-------+----------+------+\n",
      "| Brazil|    18|     MF|       FRED|   169|Argentina|    18|     DF|    SALVIO|   167|\n",
      "| Brazil|    21|     FW|     TAISON|   172|Argentina|    21|     FW|    DYBALA|   177|\n",
      "| Brazil|    17|     MF|FERNANDINHO|   179|Argentina|    17|     DF|  OTAMENDI|   181|\n",
      "| Brazil|    22|     DF|     FAGNER|   168|Argentina|    22|     MF|     PAVÓN|   169|\n",
      "| Brazil|    10|     FW|  NEYMAR JR|   175|Argentina|    10|     FW|     MESSI|   170|\n",
      "| Brazil|    11|     MF|P. COUTINHO|   172|Argentina|    11|     MF|  DI MARÍA|   178|\n",
      "| Brazil|     7|     FW|   D. COSTA|   182|Argentina|     7|     MF|    BANEGA|   175|\n",
      "| Brazil|     6|     DF|FILIPE LUIS|   182|Argentina|     6|     DF|     FAZIO|   199|\n",
      "| Brazil|     9|     FW|   G. JESUS|   175|Argentina|     9|     FW|   HIGUAÍN|   184|\n",
      "| Brazil|    13|     DF| MARQUINHOS|   183|Argentina|    13|     MF|      MEZA|   180|\n",
      "| Brazil|    20|     FW|    FIRMINO|   181|Argentina|    20|     MF|  LO CELSO|   177|\n",
      "| Brazil|    19|     MF|    WILLIAN|   175|Argentina|    19|     FW|    AGÜERO|   172|\n",
      "| Brazil|     3|     DF|    MIRANDA|   186|Argentina|     3|     DF|TAGLIAFICO|   169|\n",
      "| Brazil|    14|     DF|     DANILO|   184|Argentina|    14|     DF|MASCHERANO|   174|\n",
      "| Brazil|     2|     DF|   T. SILVA|   183|Argentina|     2|     DF|   MERCADO|   181|\n",
      "| Brazil|    12|     DF|    MARCELO|   174|Argentina|    12|     GK|    ARMANI|   189|\n",
      "| Brazil|    15|     MF|   PAULINHO|   181|Argentina|    15|     MF|   LANZINI|   167|\n",
      "| Brazil|     4|     DF|    GEROMEL|   190|Argentina|     4|     DF|   ANSALDI|   181|\n",
      "| Brazil|     5|     MF|   CASEMIRO|   185|Argentina|     5|     MF|    BIGLIA|   175|\n",
      "| Brazil|     8|     MF| R. AUGUSTO|   186|Argentina|     8|     DF|     ACUÑA|   172|\n",
      "+-------+------+-------+-----------+------+---------+------+-------+----------+------+\n",
      "only showing top 20 rows\n",
      "\n"
     ]
    }
   ],
   "source": [
    "df_br.join(df_arg, df_br.numero == df_arg.numero,'left').show()"
   ]
  },
  {
   "cell_type": "code",
   "execution_count": 52,
   "id": "feffd966-0355-40bd-8809-16740012c894",
   "metadata": {},
   "outputs": [
    {
     "name": "stdout",
     "output_type": "stream",
     "text": [
      "+-------+------+-------+---------+------+\n",
      "|selecao|numero|posicao|nm_camisa|altura|\n",
      "+-------+------+-------+---------+------+\n",
      "+-------+------+-------+---------+------+\n",
      "\n"
     ]
    }
   ],
   "source": [
    "# retona o que nao foi encontrado no df_arg, nesse caso nenhum\n",
    "df_br.join(df_arg, df_br.numero == df_arg.numero,'anti').show()"
   ]
  }
 ],
 "metadata": {
  "kernelspec": {
   "display_name": "Python 3 (ipykernel)",
   "language": "python",
   "name": "python3"
  },
  "language_info": {
   "codemirror_mode": {
    "name": "ipython",
    "version": 3
   },
   "file_extension": ".py",
   "mimetype": "text/x-python",
   "name": "python",
   "nbconvert_exporter": "python",
   "pygments_lexer": "ipython3",
   "version": "3.12.4"
  }
 },
 "nbformat": 4,
 "nbformat_minor": 5
}
